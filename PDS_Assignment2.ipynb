{
  "nbformat": 4,
  "nbformat_minor": 0,
  "metadata": {
    "colab": {
      "provenance": []
    },
    "kernelspec": {
      "name": "python3",
      "display_name": "Python 3"
    },
    "language_info": {
      "name": "python"
    }
  },
  "cells": [
    {
      "cell_type": "markdown",
      "source": [
        "a)\n",
        "\n",
        "1) Missing Value Analysis: Calculate missing values and their percentage for each column, then display them.\n",
        "\n",
        "2) Imputation/Drop Logic:\n",
        "\n",
        "Low Missing Rate (<5%): Impute with the median (for numerical) or mode (for categorical).\n",
        "\n",
        "Moderate Missing Rate (5%-50%):\n",
        "For numerical columns, check skewness and impute using median for high skew or mean otherwise.\n",
        "\n",
        "For categorical columns, use mode.\n",
        "\n",
        "High Missing Rate (>50%): Drop the column.\n",
        "\n",
        "3) Verification: Ensure no missing values remain after imputation.\n"
      ],
      "metadata": {
        "id": "1qMZAC3Occ86"
      }
    },
    {
      "cell_type": "code",
      "execution_count": 10,
      "metadata": {
        "colab": {
          "base_uri": "https://localhost:8080/"
        },
        "id": "PXcLUEX8bkV4",
        "outputId": "7075e688-db77-407f-8e81-da1cc58aeaf1"
      },
      "outputs": [
        {
          "output_type": "stream",
          "name": "stdout",
          "text": [
            "Missing Values Info:\n",
            "                   Missing Values  Percentage\n",
            "Unnamed: 0                      0    0.000000\n",
            "Name                            0    0.000000\n",
            "Location                        0    0.000000\n",
            "Year                            0    0.000000\n",
            "Kilometers_Driven               0    0.000000\n",
            "Fuel_Type                       0    0.000000\n",
            "Transmission                    0    0.000000\n",
            "Owner_Type                      0    0.000000\n",
            "Mileage                         2    0.034206\n",
            "Engine                         36    0.615700\n",
            "Power                          36    0.615700\n",
            "Seats                          38    0.649906\n",
            "New_Price                    5032   86.061228\n",
            "Price                           0    0.000000\n",
            "Missing values after imputation:\n",
            "Unnamed: 0           0\n",
            "Name                 0\n",
            "Location             0\n",
            "Year                 0\n",
            "Kilometers_Driven    0\n",
            "Fuel_Type            0\n",
            "Transmission         0\n",
            "Owner_Type           0\n",
            "Mileage              0\n",
            "Engine               0\n",
            "Power                0\n",
            "Seats                0\n",
            "Price                0\n",
            "dtype: int64\n"
          ]
        },
        {
          "output_type": "stream",
          "name": "stderr",
          "text": [
            "<ipython-input-10-ae736113cfdb>:29: FutureWarning: A value is trying to be set on a copy of a DataFrame or Series through chained assignment using an inplace method.\n",
            "The behavior will change in pandas 3.0. This inplace method will never work because the intermediate object on which we are setting values always behaves as a copy.\n",
            "\n",
            "For example, when doing 'df[col].method(value, inplace=True)', try using 'df.method({col: value}, inplace=True)' or df[col] = df[col].method(value) instead, to perform the operation inplace on the original object.\n",
            "\n",
            "\n",
            "  df[column].fillna(df[column].mode()[0], inplace=True)\n",
            "<ipython-input-10-ae736113cfdb>:27: FutureWarning: A value is trying to be set on a copy of a DataFrame or Series through chained assignment using an inplace method.\n",
            "The behavior will change in pandas 3.0. This inplace method will never work because the intermediate object on which we are setting values always behaves as a copy.\n",
            "\n",
            "For example, when doing 'df[col].method(value, inplace=True)', try using 'df.method({col: value}, inplace=True)' or df[col] = df[col].method(value) instead, to perform the operation inplace on the original object.\n",
            "\n",
            "\n",
            "  df[column].fillna(df[column].median(), inplace=True)\n"
          ]
        }
      ],
      "source": [
        "# Import necessary libraries\n",
        "import pandas as pd\n",
        "import numpy as np\n",
        "\n",
        "# Load the dataset\n",
        "# Assuming the dataset is in CSV format and uploaded to Google Colab\n",
        "\n",
        "# Load the dataset into a DataFrame\n",
        "df = pd.read_csv('train.csv')\n",
        "\n",
        "# Check for missing values and their percentage\n",
        "missing_values = df.isnull().sum()\n",
        "missing_percentage = (missing_values / len(df)) * 100\n",
        "missing_info = pd.DataFrame({'Missing Values': missing_values, 'Percentage': missing_percentage})\n",
        "\n",
        "print(\"Missing Values Info:\")\n",
        "print(missing_info)\n",
        "\n",
        "# Impute or drop based on analysis\n",
        "for column in df.columns:\n",
        "    if missing_percentage[column] == 0:\n",
        "        # No missing values, move to next column\n",
        "        continue\n",
        "    elif missing_percentage[column] < 5:\n",
        "        # For columns with <5% missing values, use median for numerical and mode for categorical\n",
        "        if df[column].dtype in ['float64', 'int64']:\n",
        "            df[column].fillna(df[column].median(), inplace=True)\n",
        "        else:\n",
        "            df[column].fillna(df[column].mode()[0], inplace=True)\n",
        "    elif missing_percentage[column] < 50:\n",
        "        # For columns with 5%-50% missing values, use mode for categorical or mean/median based on skewness for numerical\n",
        "        if df[column].dtype in ['float64', 'int64']:\n",
        "            if df[column].skew() > 1:  # If highly skewed, use median\n",
        "                df[column].fillna(df[column].median(), inplace=True)\n",
        "            else:  # Otherwise, use mean\n",
        "                df[column].fillna(df[column].mean(), inplace=True)\n",
        "        else:\n",
        "            df[column].fillna(df[column].mode()[0], inplace=True)\n",
        "    else:\n",
        "        # If more than 50% of values are missing, drop the column\n",
        "        df.drop(columns=[column], inplace=True)\n",
        "\n",
        "# Verify no missing values remain\n",
        "print(\"Missing values after imputation:\")\n",
        "print(df.isnull().sum())"
      ]
    },
    {
      "cell_type": "markdown",
      "source": [
        "b)"
      ],
      "metadata": {
        "id": "MXF3GqdVdGv0"
      }
    },
    {
      "cell_type": "code",
      "source": [
        "# Check data types and sample data in relevant columns\n",
        "print(\"Data types:\\n\", df[['Mileage', 'Engine', 'Power']].dtypes)\n",
        "print(\"\\nSample data:\\n\", df[['Mileage', 'Engine', 'Power']].head(10))\n",
        "\n",
        "# Adjust the extract_numeric function if needed\n",
        "import re\n",
        "import numpy as np\n",
        "\n",
        "def extract_numeric(value):\n",
        "    try:\n",
        "        # Use regex to find any number with optional decimal points\n",
        "        number = re.findall(r'\\d+\\.?\\d*', str(value))\n",
        "        return float(number[0]) if number else np.nan\n",
        "    except:\n",
        "        return np.nan  # Return NaN if there's any issue\n",
        "\n",
        "# Apply the function to each column, using the exact column names\n",
        "df['Mileage'] = df['Mileage'].apply(extract_numeric)    # e.g., Remove 'kmpl' or 'km/kg'\n",
        "df['Engine'] = df['Engine'].apply(extract_numeric)      # e.g., Remove 'CC'\n",
        "df['Power'] = df['Power'].apply(extract_numeric)        # e.g., Remove 'bhp'\n",
        "\n",
        "# Confirm changes\n",
        "print(\"\\nAfter processing:\")\n",
        "print(df[['Mileage', 'Engine', 'Power']].head(10))\n"
      ],
      "metadata": {
        "colab": {
          "base_uri": "https://localhost:8080/"
        },
        "id": "oim5wui4dEau",
        "outputId": "8dcb8707-2413-4614-aa83-e89eea8bf899"
      },
      "execution_count": 13,
      "outputs": [
        {
          "output_type": "stream",
          "name": "stdout",
          "text": [
            "Data types:\n",
            " Mileage    float64\n",
            "Engine     float64\n",
            "Power      float64\n",
            "dtype: object\n",
            "\n",
            "Sample data:\n",
            "    Mileage  Engine   Power\n",
            "0    19.67  1582.0  126.20\n",
            "1    13.00  1199.0   88.70\n",
            "2    20.77  1248.0   88.76\n",
            "3    15.20  1968.0  140.80\n",
            "4    23.08  1461.0   63.10\n",
            "5    11.36  2755.0  171.50\n",
            "6    20.54  1598.0  103.60\n",
            "7    22.30  1248.0   74.00\n",
            "8    21.56  1462.0  103.25\n",
            "9    16.80  1497.0  116.30\n",
            "\n",
            "After processing:\n",
            "   Mileage  Engine   Power\n",
            "0    19.67  1582.0  126.20\n",
            "1    13.00  1199.0   88.70\n",
            "2    20.77  1248.0   88.76\n",
            "3    15.20  1968.0  140.80\n",
            "4    23.08  1461.0   63.10\n",
            "5    11.36  2755.0  171.50\n",
            "6    20.54  1598.0  103.60\n",
            "7    22.30  1248.0   74.00\n",
            "8    21.56  1462.0  103.25\n",
            "9    16.80  1497.0  116.30\n"
          ]
        }
      ]
    },
    {
      "cell_type": "markdown",
      "source": [
        "c)\n",
        "\n",
        "To convert categorical variables such as \"Fuel_Type\" and \"Transmission\" into numerical one-hot encoded values, you can use the pd.get_dummies() function in Pandas. This function will create a new binary column for each category, which will be set to 1 if the row belongs to that category and 0 otherwise."
      ],
      "metadata": {
        "id": "z3iTK7R4gwjd"
      }
    },
    {
      "cell_type": "code",
      "source": [
        "# Display unique values in categorical columns before encoding\n",
        "print(\"Unique values in Fuel_Type:\", df['Fuel_Type'].unique())\n",
        "print(\"Unique values in Transmission:\", df['Transmission'].unique())\n",
        "\n",
        "# Apply one-hot encoding to 'Fuel_Type' and 'Transmission' columns\n",
        "df = pd.get_dummies(df, columns=['Fuel_Type', 'Transmission'], drop_first=True)\n",
        "\n",
        "# Display the first few rows to verify the changes\n",
        "print(\"Data after one-hot encoding:\\n\", df.head())\n"
      ],
      "metadata": {
        "colab": {
          "base_uri": "https://localhost:8080/"
        },
        "id": "RCXW38FAgxYu",
        "outputId": "93455871-891d-454e-ae9c-6b0e644f520d"
      },
      "execution_count": 14,
      "outputs": [
        {
          "output_type": "stream",
          "name": "stdout",
          "text": [
            "Unique values in Fuel_Type: ['Diesel' 'Petrol' 'Electric']\n",
            "Unique values in Transmission: ['Manual' 'Automatic']\n",
            "Data after one-hot encoding:\n",
            "    Unnamed: 0                              Name    Location  Year  \\\n",
            "0           1  Hyundai Creta 1.6 CRDi SX Option        Pune  2015   \n",
            "1           2                      Honda Jazz V     Chennai  2011   \n",
            "2           3                 Maruti Ertiga VDI     Chennai  2012   \n",
            "3           4   Audi A4 New 2.0 TDI Multitronic  Coimbatore  2013   \n",
            "4           6            Nissan Micra Diesel XV      Jaipur  2013   \n",
            "\n",
            "   Kilometers_Driven Owner_Type  Mileage  Engine   Power  Seats  Price  \\\n",
            "0              41000      First    19.67  1582.0  126.20    5.0  12.50   \n",
            "1              46000      First    13.00  1199.0   88.70    5.0   4.50   \n",
            "2              87000      First    20.77  1248.0   88.76    7.0   6.00   \n",
            "3              40670     Second    15.20  1968.0  140.80    5.0  17.74   \n",
            "4              86999      First    23.08  1461.0   63.10    5.0   3.50   \n",
            "\n",
            "   Fuel_Type_Electric  Fuel_Type_Petrol  Transmission_Manual  \n",
            "0               False             False                 True  \n",
            "1               False              True                 True  \n",
            "2               False             False                 True  \n",
            "3               False             False                False  \n",
            "4               False             False                 True  \n"
          ]
        }
      ]
    },
    {
      "cell_type": "markdown",
      "source": [
        "d)\n",
        "\n"
      ],
      "metadata": {
        "id": "ajNPLX5dhnkv"
      }
    },
    {
      "cell_type": "code",
      "source": [
        "from datetime import datetime\n",
        "\n",
        "# Get the current year\n",
        "current_year = datetime.now().year\n",
        "\n",
        "# Calculate the age of the car and add as a new column called 'Car_Age'\n",
        "df['Car_Age'] = current_year - df['Year']\n",
        "\n",
        "# Display the first few rows to verify the new column\n",
        "print(df[['Year', 'Car_Age']].head())\n",
        "print(df.head())\n"
      ],
      "metadata": {
        "colab": {
          "base_uri": "https://localhost:8080/"
        },
        "id": "AElw8g3whqfr",
        "outputId": "b2aae39c-dd81-4bd5-9612-544e8a518484"
      },
      "execution_count": 17,
      "outputs": [
        {
          "output_type": "stream",
          "name": "stdout",
          "text": [
            "   Year  Car_Age\n",
            "0  2015        9\n",
            "1  2011       13\n",
            "2  2012       12\n",
            "3  2013       11\n",
            "4  2013       11\n",
            "   Unnamed: 0                              Name    Location  Year  \\\n",
            "0           1  Hyundai Creta 1.6 CRDi SX Option        Pune  2015   \n",
            "1           2                      Honda Jazz V     Chennai  2011   \n",
            "2           3                 Maruti Ertiga VDI     Chennai  2012   \n",
            "3           4   Audi A4 New 2.0 TDI Multitronic  Coimbatore  2013   \n",
            "4           6            Nissan Micra Diesel XV      Jaipur  2013   \n",
            "\n",
            "   Kilometers_Driven Owner_Type  Mileage  Engine   Power  Seats  Price  \\\n",
            "0              41000      First    19.67  1582.0  126.20    5.0  12.50   \n",
            "1              46000      First    13.00  1199.0   88.70    5.0   4.50   \n",
            "2              87000      First    20.77  1248.0   88.76    7.0   6.00   \n",
            "3              40670     Second    15.20  1968.0  140.80    5.0  17.74   \n",
            "4              86999      First    23.08  1461.0   63.10    5.0   3.50   \n",
            "\n",
            "   Fuel_Type_Electric  Fuel_Type_Petrol  Transmission_Manual  Car_Age  \n",
            "0               False             False                 True        9  \n",
            "1               False              True                 True       13  \n",
            "2               False             False                 True       12  \n",
            "3               False             False                False       11  \n",
            "4               False             False                 True       11  \n"
          ]
        }
      ]
    },
    {
      "cell_type": "markdown",
      "source": [
        "e)"
      ],
      "metadata": {
        "id": "1AH4kq0niotZ"
      }
    },
    {
      "cell_type": "code",
      "source": [
        "import pandas as pd\n",
        "from datetime import datetime\n",
        "\n",
        "# Sample data creation for demonstration (Replace this with your actual dataset load)\n",
        "data = {\n",
        "    'Year': [2015, 2012, 2017, 2013],\n",
        "    'Make': ['Toyota', 'Honda', 'Ford', 'BMW'],\n",
        "    'Model': ['Corolla', 'Civic', 'Focus', 'X5'],\n",
        "    'Fuel_Type': ['Petrol', 'Diesel', 'Petrol', 'Diesel'],\n",
        "    'Transmission': ['Manual', 'Automatic', 'Manual', 'Automatic'],\n",
        "    'Price': [5.5, 4.0, 6.0, 8.5],\n",
        "    'Mileage': [20.5, 18.2, 15.0, 12.0]\n",
        "}\n",
        "df = pd.DataFrame(data)\n",
        "\n",
        "# 1. Select specific columns (similar to `select` in R)\n",
        "selected_df = df[['Year', 'Make', 'Model', 'Price']]\n",
        "print(\"Selected columns:\\n\", selected_df)\n",
        "\n",
        "# 2. Filter rows where 'Price' is greater than 5 (similar to `filter` in R)\n",
        "filtered_df = df[df['Price'] > 5]\n",
        "print(\"\\nFiltered rows where Price > 5:\\n\", filtered_df)\n",
        "\n",
        "# 3. Rename a column (similar to `rename` in R)\n",
        "renamed_df = df.rename(columns={'Price': 'Selling_Price'})\n",
        "print(\"\\nRenamed 'Price' to 'Selling_Price':\\n\", renamed_df.head())\n",
        "\n",
        "# 4. Mutate to create a new column (similar to `mutate` in R)\n",
        "# Calculate car age and add as a new column\n",
        "current_year = datetime.now().year\n",
        "df['Car_Age'] = current_year - df['Year']\n",
        "print(\"\\nData with new 'Car_Age' column:\\n\", df[['Year', 'Car_Age']].head())\n",
        "\n",
        "# 5. Arrange by a column (similar to `arrange` in R)\n",
        "# Arrange data by 'Price' in descending order\n",
        "arranged_df = df.sort_values(by='Price', ascending=False)\n",
        "print(\"\\nData arranged by 'Price' in descending order:\\n\", arranged_df)\n",
        "\n",
        "# 6. Summarize with group by (similar to `summarize` with `group_by` in R)\n",
        "# Group by 'Fuel_Type' and calculate mean price and mean mileage\n",
        "summary_df = df.groupby('Fuel_Type').agg(\n",
        "    Avg_Price=('Price', 'mean'),\n",
        "    Avg_Mileage=('Mileage', 'mean')\n",
        ").reset_index()\n",
        "print(\"\\nSummary statistics by 'Fuel_Type':\\n\", summary_df)\n"
      ],
      "metadata": {
        "colab": {
          "base_uri": "https://localhost:8080/"
        },
        "id": "QX-UEAXDiOji",
        "outputId": "5b4853d9-5d90-4f61-bb6b-b8e54ce63033"
      },
      "execution_count": 18,
      "outputs": [
        {
          "output_type": "stream",
          "name": "stdout",
          "text": [
            "Selected columns:\n",
            "    Year    Make    Model  Price\n",
            "0  2015  Toyota  Corolla    5.5\n",
            "1  2012   Honda    Civic    4.0\n",
            "2  2017    Ford    Focus    6.0\n",
            "3  2013     BMW       X5    8.5\n",
            "\n",
            "Filtered rows where Price > 5:\n",
            "    Year    Make    Model Fuel_Type Transmission  Price  Mileage\n",
            "0  2015  Toyota  Corolla    Petrol       Manual    5.5     20.5\n",
            "2  2017    Ford    Focus    Petrol       Manual    6.0     15.0\n",
            "3  2013     BMW       X5    Diesel    Automatic    8.5     12.0\n",
            "\n",
            "Renamed 'Price' to 'Selling_Price':\n",
            "    Year    Make    Model Fuel_Type Transmission  Selling_Price  Mileage\n",
            "0  2015  Toyota  Corolla    Petrol       Manual            5.5     20.5\n",
            "1  2012   Honda    Civic    Diesel    Automatic            4.0     18.2\n",
            "2  2017    Ford    Focus    Petrol       Manual            6.0     15.0\n",
            "3  2013     BMW       X5    Diesel    Automatic            8.5     12.0\n",
            "\n",
            "Data with new 'Car_Age' column:\n",
            "    Year  Car_Age\n",
            "0  2015        9\n",
            "1  2012       12\n",
            "2  2017        7\n",
            "3  2013       11\n",
            "\n",
            "Data arranged by 'Price' in descending order:\n",
            "    Year    Make    Model Fuel_Type Transmission  Price  Mileage  Car_Age\n",
            "3  2013     BMW       X5    Diesel    Automatic    8.5     12.0       11\n",
            "2  2017    Ford    Focus    Petrol       Manual    6.0     15.0        7\n",
            "0  2015  Toyota  Corolla    Petrol       Manual    5.5     20.5        9\n",
            "1  2012   Honda    Civic    Diesel    Automatic    4.0     18.2       12\n",
            "\n",
            "Summary statistics by 'Fuel_Type':\n",
            "   Fuel_Type  Avg_Price  Avg_Mileage\n",
            "0    Diesel       6.25        15.10\n",
            "1    Petrol       5.75        17.75\n"
          ]
        }
      ]
    }
  ]
}